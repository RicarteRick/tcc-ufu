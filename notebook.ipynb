{
 "cells": [
  {
   "cell_type": "markdown",
   "metadata": {},
   "source": [
    "imports"
   ]
  },
  {
   "cell_type": "code",
   "execution_count": 67,
   "metadata": {},
   "outputs": [],
   "source": [
    "import pandas as pd\n",
    "from sklearn.calibration import cross_val_predict, LinearSVC\n",
    "from sklearn.model_selection import train_test_split\n",
    "from sklearn.feature_extraction.text import TfidfVectorizer, CountVectorizer, TfidfTransformer\n",
    "from sklearn.naive_bayes import MultinomialNB\n",
    "from sklearn.metrics import accuracy_score\n",
    "from sklearn import datasets, linear_model\n",
    "from sklearn.linear_model import LogisticRegression\n",
    "from sklearn.ensemble import RandomForestClassifier"
   ]
  },
  {
   "cell_type": "markdown",
   "metadata": {},
   "source": [
    "preparando dados"
   ]
  },
  {
   "cell_type": "code",
   "execution_count": 13,
   "metadata": {},
   "outputs": [],
   "source": [
    "filePath = 'docs/base_de_treino_pre_processada.json'\n",
    "test_size = 0.3\n",
    "\n",
    "# Carregar o arquivo JSON em um DataFrame\n",
    "data = pd.read_json(filePath)\n",
    "\n",
    "# Dividir os dados em conjuntos de treinamento e teste\n",
    "x_train, x_test, y_train, y_test = train_test_split(data['TweetContent'], data['IsRelated'], test_size=test_size, random_state=42)\n",
    "\n",
    "x_train = [' '.join(tweet) for tweet in x_train]\n",
    "x_test = [' '.join(tweet) for tweet in x_test]"
   ]
  },
  {
   "cell_type": "markdown",
   "metadata": {},
   "source": [
    "CountVectorizer para contar frequencia"
   ]
  },
  {
   "cell_type": "code",
   "execution_count": null,
   "metadata": {},
   "outputs": [],
   "source": [
    "vectorize = CountVectorizer()\n",
    "word_count_matrix = vectorize.fit_transform(x_train)\n",
    "# print(word_count_matrix)\n",
    "\n",
    "count_list = word_count_matrix.toarray().sum(axis=0)\n",
    "word_list = vectorize.get_feature_names_out()\n",
    "\n",
    "word_freq = pd.DataFrame(count_list, index=word_list, columns=['Freq'])\n",
    "word_freq.sort_values(by='Freq', ascending=False).head(30)"
   ]
  },
  {
   "cell_type": "markdown",
   "metadata": {},
   "source": [
    "TF-IDF"
   ]
  },
  {
   "cell_type": "code",
   "execution_count": 42,
   "metadata": {},
   "outputs": [
    {
     "name": "stdout",
     "output_type": "stream",
     "text": [
      "[[0. 0. 0. ... 0. 0. 0.]\n",
      " [0. 0. 0. ... 0. 0. 0.]\n",
      " [0. 0. 0. ... 0. 0. 0.]\n",
      " ...\n",
      " [0. 0. 0. ... 0. 0. 0.]\n",
      " [0. 0. 0. ... 0. 0. 0.]\n",
      " [0. 0. 0. ... 0. 0. 0.]]\n"
     ]
    }
   ],
   "source": [
    "tfidf_transformer = TfidfTransformer()\n",
    "x_train_tfidf = tfidf_transformer.fit_transform(word_count_matrix)\n",
    "\n",
    "print(x_train_tfidf.toarray())"
   ]
  },
  {
   "cell_type": "markdown",
   "metadata": {},
   "source": [
    "funcao validação cruzada"
   ]
  },
  {
   "cell_type": "code",
   "execution_count": 69,
   "metadata": {},
   "outputs": [],
   "source": [
    "def execute_model_multinomial(x_train, y_train):\n",
    "    nb_classifier = MultinomialNB()\n",
    "    nb_classifier.fit(x_train, y_train)\n",
    "\n",
    "    results_nb = cross_val_predict(nb_classifier, x_train, y_train, cv = 10)\n",
    "\n",
    "    return results_nb\n",
    "\n",
    "def execute_logistic_regression(x_train, y_train):\n",
    "    lr_classifier = LogisticRegression(solver='lbfgs', max_iter=200, random_state=42, multi_class='multinomial')\n",
    "    lr_classifier.fit(x_train, y_train)\n",
    "\n",
    "    results_lr = cross_val_predict(lr_classifier, x_train, y_train, cv = 10)\n",
    "\n",
    "    return results_lr\n",
    "\n",
    "def execute_SVC(x_train, y_train):\n",
    "    svc_classifier = LinearSVC()\n",
    "    svc_classifier.fit(x_train, y_train)\n",
    "\n",
    "    results_svc = cross_val_predict(svc_classifier, x_train, y_train, cv = 10)\n",
    "\n",
    "    return results_svc\n",
    "\n",
    "def execute_random_forest(x_train, y_train):\n",
    "    rf_classifier = RandomForestClassifier(n_estimators=100, random_state=42)\n",
    "    rf_classifier.fit(x_train, y_train)\n",
    "\n",
    "    results_rf = cross_val_predict(rf_classifier, x_train, y_train, cv = 10)\n",
    "\n",
    "    return results_rf"
   ]
  },
  {
   "cell_type": "code",
   "execution_count": null,
   "metadata": {},
   "outputs": [],
   "source": [
    "execute_model_multinomial(x_train_tfidf, y_train)"
   ]
  },
  {
   "cell_type": "code",
   "execution_count": null,
   "metadata": {},
   "outputs": [],
   "source": [
    "execute_logistic_regression(x_train_tfidf, y_train)\n"
   ]
  },
  {
   "cell_type": "code",
   "execution_count": null,
   "metadata": {},
   "outputs": [],
   "source": [
    "execute_SVC(x_train_tfidf, y_train)"
   ]
  },
  {
   "cell_type": "code",
   "execution_count": null,
   "metadata": {},
   "outputs": [],
   "source": [
    "execute_random_forest(x_train_tfidf, y_train)"
   ]
  }
 ],
 "metadata": {
  "kernelspec": {
   "display_name": "Python 3",
   "language": "python",
   "name": "python3"
  },
  "language_info": {
   "codemirror_mode": {
    "name": "ipython",
    "version": 3
   },
   "file_extension": ".py",
   "mimetype": "text/x-python",
   "name": "python",
   "nbconvert_exporter": "python",
   "pygments_lexer": "ipython3",
   "version": "3.11.5"
  },
  "orig_nbformat": 4
 },
 "nbformat": 4,
 "nbformat_minor": 2
}
